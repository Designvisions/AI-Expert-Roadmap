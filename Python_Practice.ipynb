{
  "nbformat": 4,
  "nbformat_minor": 0,
  "metadata": {
    "colab": {
      "provenance": [],
      "authorship_tag": "ABX9TyMiaj7Ibp6qFKQkjb57OlXs",
      "include_colab_link": true
    },
    "kernelspec": {
      "name": "python3",
      "display_name": "Python 3"
    },
    "language_info": {
      "name": "python"
    }
  },
  "cells": [
    {
      "cell_type": "markdown",
      "metadata": {
        "id": "view-in-github",
        "colab_type": "text"
      },
      "source": [
        "<a href=\"https://colab.research.google.com/github/Designvisions/AI-Expert-Roadmap/blob/main/Python_Practice.ipynb\" target=\"_parent\"><img src=\"https://colab.research.google.com/assets/colab-badge.svg\" alt=\"Open In Colab\"/></a>"
      ]
    },
    {
      "cell_type": "code",
      "execution_count": 3,
      "metadata": {
        "colab": {
          "base_uri": "https://localhost:8080/"
        },
        "id": "b167Fgzh16D2",
        "outputId": "15af51d3-59a9-46f0-ac21-445eca6f658a"
      },
      "outputs": [
        {
          "output_type": "stream",
          "name": "stdout",
          "text": [
            "1\n",
            "2\n",
            "3\n",
            "4\n",
            "5\n",
            "6\n",
            "7\n",
            "8\n",
            "9\n",
            "10\n"
          ]
        }
      ],
      "source": [
        "i = 1\n",
        "while i <=10:\n",
        "  print (i)\n",
        "  i +=1\n"
      ]
    },
    {
      "cell_type": "code",
      "source": [
        "\n",
        "for i in range (1,11):\n",
        "  print (i)"
      ],
      "metadata": {
        "colab": {
          "base_uri": "https://localhost:8080/"
        },
        "id": "PKSmLVsD2iMS",
        "outputId": "c4017343-cdd1-465f-9cf0-d3ea28a7d816"
      },
      "execution_count": 13,
      "outputs": [
        {
          "output_type": "stream",
          "name": "stdout",
          "text": [
            "1\n",
            "2\n",
            "3\n",
            "4\n",
            "5\n",
            "6\n",
            "7\n",
            "8\n",
            "9\n",
            "10\n"
          ]
        }
      ]
    },
    {
      "cell_type": "code",
      "source": [
        "i=2\n",
        "while i <=20:\n",
        "\n",
        "    print(i)\n",
        "    i+=2"
      ],
      "metadata": {
        "colab": {
          "base_uri": "https://localhost:8080/"
        },
        "id": "6HgsJzzU9X9_",
        "outputId": "78870cb6-77bd-45bf-f64f-7e2b3b69a41c"
      },
      "execution_count": 15,
      "outputs": [
        {
          "output_type": "stream",
          "name": "stdout",
          "text": [
            "2\n",
            "4\n",
            "6\n",
            "8\n",
            "10\n",
            "12\n",
            "14\n",
            "16\n",
            "18\n",
            "20\n"
          ]
        }
      ]
    },
    {
      "cell_type": "code",
      "source": [
        "for i in range(1,21):\n",
        "  if i %2==0:\n",
        "    print(i)"
      ],
      "metadata": {
        "colab": {
          "base_uri": "https://localhost:8080/"
        },
        "id": "mledB-ma-Ok8",
        "outputId": "0ff50fe5-e6ea-4450-cfff-fa3a78df08c0"
      },
      "execution_count": 16,
      "outputs": [
        {
          "output_type": "stream",
          "name": "stdout",
          "text": [
            "2\n",
            "4\n",
            "6\n",
            "8\n",
            "10\n",
            "12\n",
            "14\n",
            "16\n",
            "18\n",
            "20\n"
          ]
        }
      ]
    },
    {
      "cell_type": "code",
      "source": [
        "for i in range(2,21,2):\n",
        "  print (i)"
      ],
      "metadata": {
        "colab": {
          "base_uri": "https://localhost:8080/"
        },
        "id": "9Uy9xrjp-xCG",
        "outputId": "00dd2e59-7e68-4234-f852-520144653e2c"
      },
      "execution_count": 17,
      "outputs": [
        {
          "output_type": "stream",
          "name": "stdout",
          "text": [
            "2\n",
            "4\n",
            "6\n",
            "8\n",
            "10\n",
            "12\n",
            "14\n",
            "16\n",
            "18\n",
            "20\n"
          ]
        }
      ]
    },
    {
      "cell_type": "code",
      "source": [
        "run = True\n",
        "while run:\n",
        "  status = input(\"Please type yes to continue or no to exit\")\n",
        "  if status == \"yes\":\n",
        "    continue\n",
        "  else:\n",
        "    print(\"Goodbye\")\n",
        "    break"
      ],
      "metadata": {
        "colab": {
          "base_uri": "https://localhost:8080/"
        },
        "id": "ND4eQxlM_BGo",
        "outputId": "71d586e5-1703-4126-82c4-0878bd30fa69"
      },
      "execution_count": 20,
      "outputs": [
        {
          "output_type": "stream",
          "name": "stdout",
          "text": [
            "Please type yes to continue or no to exityes\n",
            "Please type yes to continue or no to exitno\n",
            "Goodbye\n"
          ]
        }
      ]
    },
    {
      "cell_type": "code",
      "source": [
        "#sum of numbers\n",
        "\n",
        "def sum_of_numbers():\n",
        "  total = 0\n",
        "  while True:\n",
        "    number = int(input('please enter a number'))\n",
        "    if number == 0:\n",
        "      return total\n",
        "    else:\n",
        "      total += number\n",
        "      print (total)\n",
        "\n",
        "\n",
        "amount = sum_of_numbers()\n",
        "print(amount)"
      ],
      "metadata": {
        "colab": {
          "base_uri": "https://localhost:8080/"
        },
        "id": "gTHd2snJAn55",
        "outputId": "bb285b55-4363-4f56-8491-f0f25b91fe74"
      },
      "execution_count": 35,
      "outputs": [
        {
          "output_type": "stream",
          "name": "stdout",
          "text": [
            "please enter a number5\n",
            "5\n",
            "please enter a number4\n",
            "9\n",
            "please enter a number5\n",
            "14\n",
            "please enter a number4\n",
            "18\n",
            "please enter a number0\n",
            "18\n"
          ]
        }
      ]
    },
    {
      "cell_type": "code",
      "source": [
        "def sum_of_numbers():\n",
        "    total = 0\n",
        "    while True:\n",
        "        number = int(input('Please enter a number (or 0 to finish): '))\n",
        "        if number == 0:\n",
        "            return total\n",
        "        else:\n",
        "            total += number\n",
        "            print(\"Running total:\", total)  # Print the running total here\n",
        "\n",
        "# Call the function and print the final result\n",
        "amount = sum_of_numbers()\n",
        "print(\"The final total sum is:\", amount)"
      ],
      "metadata": {
        "colab": {
          "base_uri": "https://localhost:8080/"
        },
        "id": "sMU5fNvRCRMx",
        "outputId": "918a6792-834b-401e-e0ab-a0616323b371"
      },
      "execution_count": 33,
      "outputs": [
        {
          "output_type": "stream",
          "name": "stdout",
          "text": [
            "Please enter a number (or 0 to finish): 4\n",
            "Running total: 4\n",
            "Please enter a number (or 0 to finish): 5\n",
            "Running total: 9\n",
            "Please enter a number (or 0 to finish): 0\n",
            "The final total sum is: 9\n"
          ]
        }
      ]
    }
  ]
}